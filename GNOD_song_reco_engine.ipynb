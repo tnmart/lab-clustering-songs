{
 "cells": [
  {
   "attachments": {
    "gnod%20logo.png": {
     "image/png": "[encoded data removed]"
    }
   },
   "cell_type": "markdown",
   "id": "f3be58d5",
   "metadata": {},
   "source": [
    "![gnod%20logo.png](attachment:gnod%20logo.png)"
   ]
  },
  {
   "cell_type": "markdown",
   "id": "845e29e5",
   "metadata": {},
   "source": [
    "### Live demo :  song recommendation engine prototype"
   ]
  },
  {
   "cell_type": "code",
   "execution_count": 1,
   "id": "517bfaaf",
   "metadata": {},
   "outputs": [],
   "source": [
    "import function\n",
    "import song_reco"
   ]
  },
  {
   "cell_type": "code",
   "execution_count": 2,
   "id": "94ef9627",
   "metadata": {},
   "outputs": [
    {
     "name": "stdout",
     "output_type": "stream",
     "text": [
      "Enter a song name:hello\n",
      "Enter an artist name:adele\n"
     ]
    },
    {
     "data": {
      "application/vnd.jupyter.widget-view+json": {
       "model_id": "572d576ca7d84d618a95259202486a69",
       "version_major": 2,
       "version_minor": 0
      },
      "text/plain": [
       "IntProgress(value=0, description='Processing audio features :', max=1, style=ProgressStyle(bar_color='#1ED760'…"
      ]
     },
     "metadata": {},
     "output_type": "display_data"
    },
    {
     "name": "stdout",
     "output_type": "stream",
     "text": [
      "Well, this is a rare song. It's not in our database, but maybe you'll like these ones:\n",
      "\n",
      "Here are your recommendations:\n",
      "\n",
      "_____________________________________________________________________\n",
      "\n",
      "\u001b[1mArtist:\u001b[0m Hadise\n",
      "\u001b[1mTitle:\u001b[0m Stir Me Up\n",
      "\u001b[1mLink:\u001b[0m https://open.spotify.com/intl-fr/track/79mxN61Rhw4zAuvWLehld3\n",
      "_____________________________________________________________________\n",
      "\n",
      "\u001b[1mArtist:\u001b[0m Glee Cast\n",
      "\u001b[1mTitle:\u001b[0m Light Up The World\n",
      "\u001b[1mLink:\u001b[0m https://open.spotify.com/intl-fr/track/1Et2wMhDPqbu5y4sGRt6Ue\n",
      "_____________________________________________________________________\n",
      "\n",
      "\u001b[1mArtist:\u001b[0m Ray Price\n",
      "\u001b[1mTitle:\u001b[0m Heartaches By The Number\n",
      "\u001b[1mLink:\u001b[0m https://open.spotify.com/intl-fr/track/361wxJRa6M2sH1Epy2MAC1\n",
      "_____________________________________________________________________\n",
      "\n",
      "\u001b[1mArtist:\u001b[0m Luis Alberto Spinetta\n",
      "\u001b[1mTitle:\u001b[0m Dale Luz Al Instante\n",
      "\u001b[1mLink:\u001b[0m https://open.spotify.com/intl-fr/track/6wNyg7Tbcwifx79bVmQvQP\n",
      "_____________________________________________________________________\n",
      "\n",
      "\u001b[1mArtist:\u001b[0m Lucille Croft\n",
      "\u001b[1mTitle:\u001b[0m Seduce / Destroy\n",
      "\u001b[1mLink:\u001b[0m https://open.spotify.com/intl-fr/track/1eG6ogBMDCT36ciEocKV8V\n",
      "_____________________________________________________________________\n",
      "\n",
      "\n",
      "Do you want to get another recommendation? (yes/no): no\n",
      "\n",
      "We hope you are satisfied with our recommender. Come again soon!\n"
     ]
    }
   ],
   "source": [
    "#running the song recommendation engine mark_1\n",
    "song_reco.music_recommendation_engine()"
   ]
  },
  {
   "attachments": {
    "gnod%20footer.png": {
     "image/png": "[encoded data removed]"
    }
   },
   "cell_type": "markdown",
   "id": "337d817c",
   "metadata": {},
   "source": [
    "![gnod%20footer.png](attachment:gnod%20footer.png)"
   ]
  },
  {
   "cell_type": "markdown",
   "id": "f9012a7d",
   "metadata": {},
   "source": [
    "<div style=\"text-align: center;\">\n",
    "    Proudly presented by :\n",
    "    <br>\n",
    "    Anthony LE FRANC - Tiago MARTINS - Imrane MOURIGH\n",
    "</div>"
   ]
  }
 ],
 "metadata": {
  "kernelspec": {
   "display_name": "Python 3 (ipykernel)",
   "language": "python",
   "name": "python3"
  },
  "language_info": {
   "codemirror_mode": {
    "name": "ipython",
    "version": 3
   },
   "file_extension": ".py",
   "mimetype": "text/x-python",
   "name": "python",
   "nbconvert_exporter": "python",
   "pygments_lexer": "ipython3",
   "version": "3.11.5"
  }
 },
 "nbformat": 4,
 "nbformat_minor": 5
}
